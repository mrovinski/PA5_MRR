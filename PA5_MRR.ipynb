{
 "cells": [
  {
   "cell_type": "markdown",
   "metadata": {},
   "source": [
    "# Programming Assignment 5\n",
    "\n",
    "**Author:** Molly Rovinski\n",
    "**Version:** 1.0\n",
    "**Semester:** Fall 2020"
   ]
  },
  {
   "cell_type": "markdown",
   "metadata": {},
   "source": [
    "**Problem A:** Write a program that implements a translation dictionary using a Python dictionary data structure that maps 20 English words and translates them to 20 words in another language. "
   ]
  },
  {
   "cell_type": "code",
   "execution_count": 40,
   "metadata": {},
   "outputs": [
    {
     "name": "stdout",
     "output_type": "stream",
     "text": [
      "Enter a word to translate from English to Spanish (enter 0 to stop):hello\n",
      "The Spanish word for hello is hola .\n",
      "Enter a word to translate from English to Spanish (enter 0 to stop):brother\n",
      "The Spanish word for brother is hermano .\n",
      "Enter a word to translate from English to Spanish (enter 0 to stop):0\n"
     ]
    }
   ],
   "source": [
    "words={'hello':'hola','goodbye':'adios','brother':'hermano','mother':'madre','grandmother':'abuela','dog':'perro','cat':'gato','store':'tienda','friend':'amiga','home':'casa','tree':'arbol','pay':'pagar','help':'ayudar','book':'libro','leg':'pierna','name':'nombre','man':'hombre','school':'escuela','talk':'hablar','eyes':'ojos'}\n",
    "word = input(\"Enter a word to translate from English to Spanish (enter 0 to stop):\")\n",
    "while word != '0':\n",
    "    print (\"The Spanish word for\", word, \"is\", words[word],\".\")\n",
    "    word = input(\"Enter a word to translate from English to Spanish (enter 0 to stop):\")"
   ]
  },
  {
   "cell_type": "markdown",
   "metadata": {},
   "source": [
    "**Problem B:** Write a program that displays data about characters from Dungeons and Dragons."
   ]
  },
  {
   "cell_type": "code",
   "execution_count": 39,
   "metadata": {},
   "outputs": [
    {
     "name": "stdout",
     "output_type": "stream",
     "text": [
      "Enter the class of player you would like to look up. Enter zero (0) to quit. Bard\n",
      "Description: An inspiring magician whose power echoes the music of creation.\n",
      "+---------+-----------------+----------------------+\n",
      "| Hit Die | Primary Ability |        Saves         |\n",
      "+---------+-----------------+----------------------+\n",
      "|    d8   |     Charisma    | Dexterity & Charisma |\n",
      "+---------+-----------------+----------------------+\n",
      "Enter the class of player you would like to look up. Enter zero (0) to quit. Druid\n",
      "Description: A priest of the Old Faith, wielding the powers of nature and adopting animal forms.\n",
      "+---------+-----------------+-----------------------+\n",
      "| Hit Die | Primary Ability |         Saves         |\n",
      "+---------+-----------------+-----------------------+\n",
      "|    d8   |      Wisdom     | Intelligence & Wisdom |\n",
      "+---------+-----------------+-----------------------+\n",
      "Enter the class of player you would like to look up. Enter zero (0) to quit. Ranger\n",
      "Description: A warrior who combats threats on the edges of civilization.\n",
      "+---------+--------------------+----------------------+\n",
      "| Hit Die |  Primary Ability   |        Saves         |\n",
      "+---------+--------------------+----------------------+\n",
      "|   d10   | Dexterity & Wisdom | Strength & Dexterity |\n",
      "+---------+--------------------+----------------------+\n",
      "Enter the class of player you would like to look up. Enter zero (0) to quit. Warlock\n",
      "Description: A wielder of magic that is derived from a bargain with an extraplanar entity.\n",
      "+---------+-----------------+-------------------+\n",
      "| Hit Die | Primary Ability |       Saves       |\n",
      "+---------+-----------------+-------------------+\n",
      "|    d8   |     Charisma    | Wisdom & Charisma |\n",
      "+---------+-----------------+-------------------+\n",
      "Enter the class of player you would like to look up. Enter zero (0) to quit. Wizard\n",
      "Description: A scholarly magic-user capable of manipulating the structures of reality.\n",
      "+---------+-----------------+-----------------------+\n",
      "| Hit Die | Primary Ability |         Saves         |\n",
      "+---------+-----------------+-----------------------+\n",
      "|    d6   |   Intelligence  | Intelligence & Wisdom |\n",
      "+---------+-----------------+-----------------------+\n",
      "Enter the class of player you would like to look up. Enter zero (0) to quit. Sorcerer\n",
      "Description: A spellcaster who draws on inherent magic from a gift or bloodline.\n",
      "+---------+-----------------+-------------------------+\n",
      "| Hit Die | Primary Ability |          Saves          |\n",
      "+---------+-----------------+-------------------------+\n",
      "|    d6   |     Charisma    | Constitution & Charisma |\n",
      "+---------+-----------------+-------------------------+\n",
      "Enter the class of player you would like to look up. Enter zero (0) to quit. Paladin\n",
      "I have no record of this player class!\n",
      "Enter the class of player you would like to look up. Enter zero (0) to quit. Monk\n",
      "I have no record of this player class!\n",
      "Enter the class of player you would like to look up. Enter zero (0) to quit. 0\n"
     ]
    }
   ],
   "source": [
    "from prettytable import PrettyTable\n",
    "def print_player_data(data):\n",
    "    print(\"Description:\", data[3])\n",
    "    pt = PrettyTable()\n",
    "    pt.field_names = [data[0][0], data[1][0], data[2][0]]\n",
    "    pt.add_row([data[0][1], data[1][1], data[2][1]])\n",
    "    print(pt)\n",
    "    \n",
    "classes = {'Bard':[('Hit Die', 'd8' ),('Primary Ability','Charisma' ),('Saves', 'Dexterity & Charisma'),'An inspiring magician whose power echoes the music of creation.'], 'Druid':[('Hit Die','d8' ),('Primary Ability', 'Wisdom'),('Saves', 'Intelligence & Wisdom'),'A priest of the Old Faith, wielding the powers of nature and adopting animal forms.'], 'Ranger':[('Hit Die', 'd10' ),('Primary Ability','Dexterity & Wisdom' ),('Saves','Strength & Dexterity' ),'A warrior who combats threats on the edges of civilization.'], 'Warlock':[('Hit Die','d8' ),('Primary Ability','Charisma' ),('Saves','Wisdom & Charisma' ),'A wielder of magic that is derived from a bargain with an extraplanar entity.'], 'Wizard':[('Hit Die', 'd6'),('Primary Ability', 'Intelligence'),('Saves','Intelligence & Wisdom' ),'A scholarly magic-user capable of manipulating the structures of reality.'], 'Sorcerer':[('Hit Die', 'd6'),('Primary Ability', 'Charisma'),('Saves','Constitution & Charisma' ),'A spellcaster who draws on inherent magic from a gift or bloodline.']}\n",
    "character = input(\"Enter the class of player you would like to look up. Enter zero (0) to quit. \")\n",
    "while character != '0':\n",
    "    if character not in classes.keys():\n",
    "        print(\"I have no record of this player class!\")\n",
    "    else:\n",
    "        print_player_data(classes[character])\n",
    "    character = input(\"Enter the class of player you would like to look up. Enter zero (0) to quit. \")\n",
    "    \n",
    "    "
   ]
  }
 ],
 "metadata": {
  "kernelspec": {
   "display_name": "Python 3",
   "language": "python",
   "name": "python3"
  },
  "language_info": {
   "codemirror_mode": {
    "name": "ipython",
    "version": 3
   },
   "file_extension": ".py",
   "mimetype": "text/x-python",
   "name": "python",
   "nbconvert_exporter": "python",
   "pygments_lexer": "ipython3",
   "version": "3.8.3"
  }
 },
 "nbformat": 4,
 "nbformat_minor": 4
}
